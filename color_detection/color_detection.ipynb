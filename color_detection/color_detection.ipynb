{
 "cells": [
  {
   "cell_type": "code",
   "execution_count": 23,
   "id": "1031ae14",
   "metadata": {},
   "outputs": [],
   "source": [
    "import pandas as pd\n",
    "import cv2"
   ]
  },
  {
   "cell_type": "code",
   "execution_count": 24,
   "id": "63835182",
   "metadata": {},
   "outputs": [
    {
     "name": "stdout",
     "output_type": "stream",
     "text": [
      "     air_force_blue_raf   Air Force Blue (Raf)  #5d8aa8   93  138  168\n",
      "0   air_force_blue_usaf  Air Force Blue (Usaf)  #00308f    0   48  143\n",
      "1  air_superiority_blue   Air Superiority Blue  #72a0c1  114  160  193\n",
      "2       alabama_crimson        Alabama Crimson  #a32638  163   38   56\n",
      "3            alice_blue             Alice Blue  #f0f8ff  240  248  255\n",
      "4      alizarin_crimson       Alizarin Crimson  #e32636  227   38   54\n"
     ]
    }
   ],
   "source": [
    "img_path = 'pic3.jpg'\n",
    "csv_path = 'colors.csv'\n",
    "df = pd.read_csv(csv_path)\n",
    "print(df.head(5))"
   ]
  },
  {
   "cell_type": "code",
   "execution_count": 25,
   "id": "2fc9aa19",
   "metadata": {},
   "outputs": [
    {
     "name": "stdout",
     "output_type": "stream",
     "text": [
      "                  color             color-name      hex    R    G    B\n",
      "0    air_force_blue_raf   Air Force Blue (Raf)  #5d8aa8   93  138  168\n",
      "1   air_force_blue_usaf  Air Force Blue (Usaf)  #00308f    0   48  143\n",
      "2  air_superiority_blue   Air Superiority Blue  #72a0c1  114  160  193\n",
      "3       alabama_crimson        Alabama Crimson  #a32638  163   38   56\n",
      "4            alice_blue             Alice Blue  #f0f8ff  240  248  255\n"
     ]
    }
   ],
   "source": [
    "index = ['color','color-name','hex','R','G','B']\n",
    "df = pd.read_csv(csv_path,names=index,header=None)\n",
    "print(df.head(5))"
   ]
  },
  {
   "cell_type": "code",
   "execution_count": 26,
   "id": "7a5d1697",
   "metadata": {},
   "outputs": [
    {
     "name": "stdout",
     "output_type": "stream",
     "text": [
      "865\n"
     ]
    }
   ],
   "source": [
    "print(len(df))"
   ]
  },
  {
   "cell_type": "code",
   "execution_count": 27,
   "id": "ea1476ac",
   "metadata": {},
   "outputs": [
    {
     "name": "stdout",
     "output_type": "stream",
     "text": [
      "color           air_force_blue_usaf\n",
      "color-name    Air Force Blue (Usaf)\n",
      "hex                         #00308f\n",
      "R                                 0\n",
      "G                                48\n",
      "B                               143\n",
      "Name: 1, dtype: object\n"
     ]
    }
   ],
   "source": [
    "print(df.loc[1])"
   ]
  },
  {
   "cell_type": "code",
   "execution_count": 28,
   "id": "a0170e72",
   "metadata": {},
   "outputs": [
    {
     "name": "stdout",
     "output_type": "stream",
     "text": [
      "0\n"
     ]
    }
   ],
   "source": [
    "print(df.loc[1,'R'])"
   ]
  },
  {
   "cell_type": "code",
   "execution_count": 29,
   "id": "5f147f6c",
   "metadata": {},
   "outputs": [
    {
     "name": "stdout",
     "output_type": "stream",
     "text": [
      "[[[227 204 255]\n",
      "  [227 204 255]\n",
      "  [227 204 255]\n",
      "  ...\n",
      "  [227 204 255]\n",
      "  [227 204 255]\n",
      "  [227 204 255]]\n",
      "\n",
      " [[227 204 255]\n",
      "  [227 204 255]\n",
      "  [227 204 255]\n",
      "  ...\n",
      "  [227 204 255]\n",
      "  [227 204 255]\n",
      "  [227 204 255]]\n",
      "\n",
      " [[227 204 255]\n",
      "  [227 204 255]\n",
      "  [227 204 255]\n",
      "  ...\n",
      "  [227 204 255]\n",
      "  [227 204 255]\n",
      "  [227 204 255]]\n",
      "\n",
      " ...\n",
      "\n",
      " [[110 197 186]\n",
      "  [102 191 182]\n",
      "  [106 190 187]\n",
      "  ...\n",
      "  [220 211 207]\n",
      "  [215 204 201]\n",
      "  [184 172 169]]\n",
      "\n",
      " [[113 194 182]\n",
      "  [111 196 183]\n",
      "  [109 194 183]\n",
      "  ...\n",
      "  [215 204 206]\n",
      "  [219 212 212]\n",
      "  [224 219 219]]\n",
      "\n",
      " [[104 201 181]\n",
      "  [113 200 181]\n",
      "  [120 199 180]\n",
      "  ...\n",
      "  [135 126 123]\n",
      "  [ 68  57  55]\n",
      "  [ 74  62  60]]]\n"
     ]
    }
   ],
   "source": [
    "img = cv2.imread(img_path)\n",
    "img = cv2.resize(img,(800,600))\n",
    "print(img)"
   ]
  },
  {
   "cell_type": "code",
   "execution_count": 30,
   "id": "36235d48",
   "metadata": {},
   "outputs": [],
   "source": [
    "# cv2.namedWindow('image')\n",
    "# cv2.imshow('image',img)\n",
    "# cv2.waitKey(0)\n",
    "# cv2.destroyAllWindows()"
   ]
  },
  {
   "cell_type": "code",
   "execution_count": 31,
   "id": "e95a6231",
   "metadata": {},
   "outputs": [],
   "source": [
    "# img = cv2.imread(img_path)\n",
    "# img = cv2.resize(img,(800,600))\n",
    "# cv2.namedWindow('image')\n",
    "# cv2.imshow('image',img)\n",
    "# cv2.waitKey(0)\n",
    "# cv2.destroyAllWindows()"
   ]
  },
  {
   "cell_type": "code",
   "execution_count": 32,
   "id": "7e49c150",
   "metadata": {},
   "outputs": [],
   "source": [
    "# def draw_function(event,x,y,flags,params):\n",
    "#     if event == cv2.EVENT_LBUTTONDBLCLK:\n",
    "#         print(x,y)\n",
    "        \n",
    "\n",
    "# cv2.namedWindow('image')\n",
    "# cv2.setMouseCallback('image',draw_function)\n",
    "# cv2.imshow('image',img)\n",
    "# cv2.waitKey(0)\n",
    "# cv2.destroyAllWindows()"
   ]
  },
  {
   "cell_type": "code",
   "execution_count": 33,
   "id": "230a826c",
   "metadata": {},
   "outputs": [
    {
     "name": "stdout",
     "output_type": "stream",
     "text": [
      "Black\n",
      "White\n",
      "Red\n"
     ]
    }
   ],
   "source": [
    "#open cv store in bgr format insted of rgb\n",
    "clicked = False\n",
    "r = g = b = xpos = ypos = 0\n",
    "\n",
    "\n",
    "\n",
    "def get_color_name(R,G,B):\n",
    "    minimum = 1000\n",
    "    for i in range(len(df)):\n",
    "        d = abs(R - int(df.loc[i,'R'])) + abs(G - int(df.loc[i,'G'])) + abs(B - int(df.loc[i,'B']))\n",
    "        if d <= minimum:\n",
    "            minimum = d\n",
    "            cname = df.loc[i,'color-name']\n",
    "            \n",
    "    return cname\n",
    "            \n",
    "\n",
    "print(get_color_name(0,0,0))\n",
    "print(get_color_name(255,255,255))\n",
    "print(get_color_name(255,0,0))\n",
    "\n",
    "            \n",
    "def draw_function(event,x,y,flags,params):\n",
    "    if event == cv2.EVENT_LBUTTONDBLCLK:\n",
    "        global clicked, r, g, b, xpos, ypos\n",
    "        clicked = True\n",
    "        xpos = x\n",
    "        ypos = y\n",
    "        #print(x,y)\n",
    "        b,g,r = img[y,x]\n",
    "        b = int(b)\n",
    "        g = int(g)\n",
    "        r = int(r)\n",
    "        \n",
    "cv2.namedWindow('image')\n",
    "cv2.setMouseCallback('image',draw_function)\n",
    "\n",
    "while True:\n",
    "    cv2.imshow('image',img)\n",
    "    if clicked:\n",
    "        cv2.rectangle(img,(20,20),(600,60), (b,g,r), -1)\n",
    "        text = get_color_name(r,g,b) + ' R= ' + str(r) + \" G= \" + str(g) + \" B= \" + str(b)\n",
    "        cv2.putText(img,text, (50,50), 2, 0.8, (255,255,255), 2, cv2.LINE_AA)\n",
    "        if r+g+b >= 600:\n",
    "            cv2.putText(img, text, (50,50), 2 ,0.8, (0,0,0), 2, cv2.LINE_AA)\n",
    "    \n",
    "    if cv2.waitKey(20) & 0xFF == 27:\n",
    "        break\n",
    "\n",
    "\n",
    "        \n",
    "        \n",
    "# cv2.imshow('image',img)\n",
    "# cv2.waitKey(0)\n",
    "cv2.destroyAllWindows()"
   ]
  },
  {
   "cell_type": "code",
   "execution_count": null,
   "id": "61517bf6",
   "metadata": {},
   "outputs": [],
   "source": []
  },
  {
   "cell_type": "code",
   "execution_count": null,
   "id": "36ad0526",
   "metadata": {},
   "outputs": [],
   "source": []
  },
  {
   "cell_type": "code",
   "execution_count": null,
   "id": "7420d635",
   "metadata": {},
   "outputs": [],
   "source": []
  }
 ],
 "metadata": {
  "kernelspec": {
   "display_name": "Python 3",
   "language": "python",
   "name": "python3"
  },
  "language_info": {
   "codemirror_mode": {
    "name": "ipython",
    "version": 3
   },
   "file_extension": ".py",
   "mimetype": "text/x-python",
   "name": "python",
   "nbconvert_exporter": "python",
   "pygments_lexer": "ipython3",
   "version": "3.9.5"
  }
 },
 "nbformat": 4,
 "nbformat_minor": 5
}
